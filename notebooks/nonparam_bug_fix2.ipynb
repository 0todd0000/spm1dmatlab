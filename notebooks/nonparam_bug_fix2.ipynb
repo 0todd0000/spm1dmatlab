{
 "cells": [
  {
   "cell_type": "markdown",
   "id": "58d7868c",
   "metadata": {},
   "source": [
    "# Nonparametric inference changes in spm1d v0.4.50  (2nd bug) (MATLAB)\n",
    "\n",
    "(2025-07-08)\n",
    "\n",
    "In repairing the [first bug](nonparam_bug_fix.ipynb) a second bug was discovered.\n",
    "\n",
    "The bug affects both the Python and MATLAB versions of **spm1d** for all versions prior to v0.4.50.\n",
    "\n",
    "The bug affects only **0D data analysis** and only two-tailed inference for the following procedures:\n",
    "\n",
    "- spm1d.stats.nonparam.ttest\n",
    "- spm1d.stats.nonparam.ttest_paired\n",
    "- spm1d.stats.nonparam.ttest2\n",
    "- spm1d.stats.nonparam.regress\n",
    "- spm1d.stats.nonparam.ci_onesample\n",
    "- spm1d.stats.nonparam.ci_pairedsample\n",
    "- spm1d.stats.nonparam.ci_twosample\n",
    "\n",
    "The bug applied a double-correction for two-tailed inference when calculating critical threshold, thereby yielding overly conservative thresholds. The p-values from these procedures are unaffected. Thus the bug affects only cases where the critical threshold is of primary concern. As such the practical implications of this bug are expected to be limited to 0D confidence interval results.\n",
    "\n",
    "Below is a brief description of the bug and a demonstration of its resolution in spm1d v0.4.50."
   ]
  },
  {
   "cell_type": "markdown",
   "id": "969880c7",
   "metadata": {},
   "source": [
    "<br>\n",
    "<br>\n",
    "\n",
    "___\n",
    "\n",
    "## Preliminaries\n",
    "\n",
    "Ensure that the spm1d source code is on your path:"
   ]
  },
  {
   "cell_type": "code",
   "execution_count": 1,
   "id": "9c235975",
   "metadata": {},
   "outputs": [],
   "source": [
    "addpath( genpath('/Users/todd/GitHub/spm1dmatlab/') )"
   ]
  },
  {
   "cell_type": "markdown",
   "id": "f0f118c4",
   "metadata": {},
   "source": [
    "Before starting verify that you have **spm1d** version 0.4.50 or later.\n",
    "\n",
    "The `spm1d.version()` command may generate an error for older versions of **spm1d**."
   ]
  },
  {
   "cell_type": "code",
   "execution_count": 2,
   "id": "6b4930f1",
   "metadata": {},
   "outputs": [
    {
     "name": "stdout",
     "output_type": "stream",
     "text": [
      "0.4.50\n"
     ]
    }
   ],
   "source": [
    "disp( spm1d.version() )"
   ]
  },
  {
   "cell_type": "markdown",
   "id": "5431f08d",
   "metadata": {},
   "source": [
    "Note that the `spm1d.stats.nonparam` subpackage has been rewritten. If you wish to replicate previous versions' results please use the `spm1d.stats.nonparam_old` package which retains the original code."
   ]
  },
  {
   "cell_type": "markdown",
   "id": "75c7dc0c",
   "metadata": {},
   "source": [
    "<br>\n",
    "<br>\n",
    "\n",
    "___\n",
    "\n",
    "## Bug example\n",
    "\n",
    "The example below shows that the old procedure a critical threshold of 2.67, considerably higher than the 2.20 and 2.23 yielded by the parametric and new nonparametric procedures."
   ]
  },
  {
   "cell_type": "code",
   "execution_count": 3,
   "id": "0184b02c",
   "metadata": {},
   "outputs": [
    {
     "name": "stdout",
     "output_type": "stream",
     "text": [
      "zstar (param):         2.20099\n",
      "zstar (nonparam):      2.22642\n",
      "zstar (nonparam old):  2.67153\n"
     ]
    }
   ],
   "source": [
    "\n",
    "rng(0)\n",
    "y0         = randn(1,12);\n",
    "y1         = randn(1,12);\n",
    "\n",
    "\n",
    "% conduct parametric and nonparametric tests:\n",
    "alpha      = 0.05;\n",
    "two_tailed = true;\n",
    "niter      = -1;\n",
    "t          = spm1d.stats.ttest_paired(y1, y0).inference(alpha, 'two_tailed', two_tailed);\n",
    "tn         = spm1d.stats.nonparam.ttest_paired(y1, y0).inference(alpha, 'two_tailed', two_tailed, 'iterations', niter);\n",
    "tno        = spm1d.stats.nonparam_old.ttest_paired(y1, y0).inference(alpha, 'two_tailed', two_tailed, 'iterations', niter);\n",
    "\n",
    "% report results\n",
    "disp( sprintf( 'zstar (param):         %.5f', t.zstar) )\n",
    "disp( sprintf( 'zstar (nonparam):      %.5f', tn.zstar(2)) )\n",
    "disp( sprintf( 'zstar (nonparam old):  %.5f', tno.zstar(2)) )"
   ]
  },
  {
   "cell_type": "markdown",
   "id": "d409e81a",
   "metadata": {},
   "source": [
    "<br>\n",
    "\n",
    "The bug can be rectified in the old version simply by multiplying the desired alpha by two:\n",
    "\n",
    "<br>"
   ]
  },
  {
   "cell_type": "code",
   "execution_count": 4,
   "id": "526ae5e6",
   "metadata": {},
   "outputs": [
    {
     "name": "stdout",
     "output_type": "stream",
     "text": [
      "zstar (nonparam old corrected):  2.22642\n"
     ]
    }
   ],
   "source": [
    "tno = spm1d.stats.nonparam_old.ttest_paired(y1, y0).inference(2*alpha, 'two_tailed', two_tailed, 'iterations', niter);\n",
    "\n",
    "disp( sprintf( 'zstar (nonparam old corrected):  %.5f', tno.zstar(2)) )"
   ]
  }
 ],
 "metadata": {
  "kernelspec": {
   "display_name": "MATLAB Kernel",
   "language": "matlab",
   "name": "jupyter_matlab_kernel"
  },
  "language_info": {
   "file_extension": ".m",
   "mimetype": "text/x-matlab",
   "name": "matlab"
  }
 },
 "nbformat": 4,
 "nbformat_minor": 5
}
